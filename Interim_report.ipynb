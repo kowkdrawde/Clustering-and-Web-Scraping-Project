{
 "cells": [
  {
   "cell_type": "markdown",
   "id": "b5f399db-ceaf-47fd-8d60-86b3754017dc",
   "metadata": {},
   "source": [
    "<h1> Coursera Capstone Final Project - The Battle of Neighbourhoods </h1>\n",
    "<h3> for the IBM Data Science Professional Certificate </h3>"
   ]
  },
  {
   "cell_type": "markdown",
   "id": "3af08bf3-6bda-4a3a-806c-2c4f06efc9c2",
   "metadata": {},
   "source": [
    "<h2> Description of project and discussion of the problem </h2>"
   ]
  },
  {
   "cell_type": "markdown",
   "id": "75ee2227-da5a-44d6-bc7f-8a985b064bfe",
   "metadata": {},
   "source": [
    "<p> A family is moving to London and wishes to find schools for kid(s). As a start, the family wishes to find the locations of London which are most convenient and accessible to nearby schools (and to be picky, as many of them as possible). Also, the family wants to explore the neighbo<u>u</u>rhoods suggested (yes, a bit of British spelling).</p>"
   ]
  },
  {
   "cell_type": "markdown",
   "id": "4384d171-1c39-4764-a7c7-cf0642a976ea",
   "metadata": {},
   "source": [
    "<h2> Description of data and how it will be used to solve the problem</h2>"
   ]
  },
  {
   "cell_type": "markdown",
   "id": "eafeba0c-bbec-4511-b2df-e8521ef57cb1",
   "metadata": {},
   "source": [
    "<p> This project will (i) obtain geographical information about London by parsing a wikipedia page. The names 33 boroughs of London will be used to obtain the corresponding coordinates; (ii) then search nearby schools of these 33 boroughs, specifically elementary schools, middle schools, and high schools using the Foursquare API; (iii) analyse and clean the data; (iv) broadly classify the schools into 4 regions and hence 4 centroids most accessible to nearby schools; and (v) explore the vicinity of the centriods and discover patterns and information. </p>"
   ]
  }
 ],
 "metadata": {
  "kernelspec": {
   "display_name": "Python",
   "language": "python",
   "name": "conda-env-python-py"
  },
  "language_info": {
   "codemirror_mode": {
    "name": "ipython",
    "version": 3
   },
   "file_extension": ".py",
   "mimetype": "text/x-python",
   "name": "python",
   "nbconvert_exporter": "python",
   "pygments_lexer": "ipython3",
   "version": "3.6.13"
  }
 },
 "nbformat": 4,
 "nbformat_minor": 5
}
