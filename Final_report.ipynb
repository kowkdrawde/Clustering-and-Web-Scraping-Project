{
 "cells": [
  {
   "cell_type": "markdown",
   "id": "b5f399db-ceaf-47fd-8d60-86b3754017dc",
   "metadata": {},
   "source": [
    "<h1> Coursera Capstone Final Project - The Battle of Neighbourhoods </h1>\n",
    "<h3> for the IBM Data Science Professional Certificate </h3>"
   ]
  },
  {
   "cell_type": "markdown",
   "id": "3af08bf3-6bda-4a3a-806c-2c4f06efc9c2",
   "metadata": {},
   "source": [
    "<h2> Introduction / Business Problem </h2>"
   ]
  },
  {
   "cell_type": "markdown",
   "id": "75ee2227-da5a-44d6-bc7f-8a985b064bfe",
   "metadata": {},
   "source": [
    "<p> A family is moving to London and wishes to find schools for kid(s). As a start, the family wishes to find the locations of London which are most convenient and accessible to nearby schools (and to be picky, as many of them as possible). Also, the family wants to explore the neighbo<u>u</u>rhoods suggested.</p>"
   ]
  },
  {
   "cell_type": "markdown",
   "id": "2df1eda3-28bf-49c5-aa40-4051db8a9bd5",
   "metadata": {},
   "source": [
    "<h2> Data </h2>"
   ]
  },
  {
   "cell_type": "markdown",
   "id": "85aa970f-c3b0-44c8-86c8-5e0589031a4b",
   "metadata": {},
   "source": [
    "<p> This project will (i) obtain geographical information about London by parsing a wikipedia page. The names 33 boroughs of London will be used to obtain the corresponding coordinates; (ii) then search nearby schools of these 33 boroughs, specifically elementary schools, middle schools, and high schools using the Foursquare API; (iii) analyse and clean the data; (iv) classify the schools into k regions by k-means method and hence get k centroids most accessible to nearby schools; and (v) explore the vicinity of the centriods and discover patterns and information. </p>"
   ]
  },
  {
   "cell_type": "markdown",
   "id": "754598de-c541-4516-823b-54a6eb20beaa",
   "metadata": {},
   "source": [
    "<h2> Methodology </h2>"
   ]
  },
  {
   "cell_type": "markdown",
   "id": "931f589a-658e-4517-912c-5c9f829c65a5",
   "metadata": {},
   "source": [
    "<p> The <strong>geographical information</strong> about London, in particular the names of boroughs, are obtained by parsing a <a href=https://en.wikipedia.org/wiki/List_of_London_boroughs>wikipedia page </a> using <strong>Beautiful Soup</strong>. Then the coordinates of the centres of these boroughs are obtained using geopy.Nominatim. With such geolocation data ready, they can be passed to the Foursquare API as searching latitudes and longitudes. </p>"
   ]
  },
  {
   "cell_type": "markdown",
   "id": "ee924e2f-5193-4cb7-8368-4ab21de35a19",
   "metadata": {},
   "source": [
    "<p> When using the <strong>Foursquare API</strong> to obtain <strong>search veunes</strong>, cateogry IDs are used as search basis to improve the accuracy. This is because keyword search of 'elementary/middle/high schools' may miss institutions which does not contain exactly the keywords. On the contrary, such keyword search may return venues which are not schools at all. </p>"
   ]
  },
  {
   "cell_type": "markdown",
   "id": "3dde2366-f3d0-44a3-8add-059ba7974d17",
   "metadata": {},
   "source": [
    "<p> Also, instead of searching many venues starting from central London, the geolocation of 33 boroughs of London are obtained and used as seed locations. This bit of consideration to iterate over boroughs is that, if only one centre is used in the search query, the API may return results from near to far and may have accuracy issues outside central London. The trade-off is that using 33 seed locations will multiply the number of queries. The estimated usage is 33 (boroughs) x 3 (search categories) = 99 queries; and maximum 99 x 50 = 5445 venues. </p>"
   ]
  },
  {
   "cell_type": "markdown",
   "id": "beda8b6e-5bc3-44b6-addf-3130b50ebee8",
   "metadata": {},
   "source": [
    "<p> Search queries are sent to Foursquare API and lists of searched venues are returned. The lists are combined into one dataframe for data cleansing and analysis including removal of duplicated entries. </p> "
   ]
  },
  {
   "cell_type": "markdown",
   "id": "de773f06-b8b7-424a-b42e-7c013b66353c",
   "metadata": {},
   "source": [
    "<p> After cleaning the data, the <strong>k-means</strong> method is used to classify the data points of latitudes and longitudes into k regions and centroids. The best k is estimated by the <strong>elbow method</strong> and the <strong>Silhouette score</strong>. </p>"
   ]
  },
  {
   "cell_type": "markdown",
   "id": "cc0fcc9b-bc74-443f-8c8c-b207662ec3d9",
   "metadata": {},
   "source": [
    "<p> Based on the lattitudes and longitudes of the centroids, the <strong>explore query</strong> of the <strong>Foursquare API</strong> is used. It is not surprising that food premises are often returned, the explore query results would be separately analysed for the food and non-food portion. Recommendation is made based on such analysis.</p> "
   ]
  },
  {
   "cell_type": "markdown",
   "id": "3b59285b-b96d-4a61-ab52-f96c6e096ee1",
   "metadata": {},
   "source": [
    "<h2> Results </h2>"
   ]
  },
  {
   "cell_type": "markdown",
   "id": "348d8b83-23c4-4002-811c-7a7710ce7d79",
   "metadata": {},
   "source": [
    "<p> Geographical information about London is obtained. </p>"
   ]
  },
  {
   "cell_type": "markdown",
   "id": "0e756dde-e7d4-4a2d-bd62-6b29fb71f2ee",
   "metadata": {},
   "source": [
    "<img src='parse_london.png'></img>"
   ]
  },
  {
   "cell_type": "markdown",
   "id": "2cb9e93d-8ef6-4886-8944-40b9d73af059",
   "metadata": {},
   "source": [
    "<p> The Foursquare API also return search results (after data cleaning). There are fewer than half of the theoretical maximum number of venues returns (2278 / 5445) and in fact there are only <strong>823 unqiue venues </strong>."
   ]
  },
  {
   "cell_type": "markdown",
   "id": "62539c42-db59-450a-8547-57067aafdf5b",
   "metadata": {},
   "source": [
    "<img src='sample_schools.png'></img>"
   ]
  },
  {
   "cell_type": "markdown",
   "id": "45849452-2312-4b55-832b-1384cf8b99cf",
   "metadata": {},
   "source": [
    "<p> The k-means clustering model with <strong>elbow method</strong> and the <strong>Silhouette score</strong> suggested that <strong>k = 3</strong> gives a locally best-fit clustering result. </p>"
   ]
  },
  {
   "cell_type": "markdown",
   "id": "acdad38d-0d46-4930-90f0-274fd09e7a86",
   "metadata": {},
   "source": [
    "<img src='best_k_metric.png'></img>"
   ]
  },
  {
   "cell_type": "markdown",
   "id": "99084711-0a06-4075-9b23-6b0ef2dfbebf",
   "metadata": {},
   "source": [
    "<p> The corresponding scatter plot at k=3 is as follows. The markers with home icon are the centroids. The <strong>green, yellow, red </strong> data points correspond to <strong>clusters 0,1,and 2</strong>.</p>"
   ]
  },
  {
   "cell_type": "markdown",
   "id": "8455fa77-a807-4f60-942f-0511ddc1dba9",
   "metadata": {},
   "source": [
    "<img src='plot_clustered_schools.png'></img>"
   ]
  },
  {
   "cell_type": "markdown",
   "id": "0c1f8213-bb95-4272-a82e-9e7c6edbe275",
   "metadata": {},
   "source": [
    "<p> Using the explore query of the Foursquare API, a maximum number of <strong>50 venues within 2km of the centroids</strong> are explored. The API would return some outside the vicinity if there are not many places within worth commenting by Foursquare users.</p>\n",
    "\n",
    "<p> Suppose common food premises contain keywords like Restaurant | Café | Coffee Shop | Pub | Bar | Pizza Place | Gastropub | Fish & Chips Shop | Sandwich Place | Steakhouse (non exhaustive). The following pivot tables separate the data into food (dotted line) and non-food (solid line). </p>"
   ]
  },
  {
   "cell_type": "markdown",
   "id": "7e74a830-eb24-43ef-af66-cf8b5f6219aa",
   "metadata": {},
   "source": [
    "<img src='common_food.png' style='width:30; border: 5px dotted gray'></img>\n",
    "<img src='non_food.png' style='width:30; border: 5px solid gray'></img>"
   ]
  },
  {
   "cell_type": "markdown",
   "id": "621da28c-f822-40bc-81bc-7cd633e2328b",
   "metadata": {},
   "source": [
    "<h2> Discussion </h2>"
   ]
  },
  {
   "cell_type": "markdown",
   "id": "89f78e19-dc5c-43cc-b921-df4ad7a96bdf",
   "metadata": {},
   "source": [
    "<p> The clustering gives 3 distinct regions. Cluster 0 (green) at Northwestern part of London, cluster 1 (yellow) at Eastern part, and cluster 2 (red) at Southern part. </p>\n",
    "\n",
    "<p> It can be seen that <strong>cluster 2 </strong> has the <strong> most unique types of food premises (18)</strong> compared to clusters 0 (13) and 1 (11). On the other hand, <strong> cluster 0 </strong> has the <strong> most unique tyes of non-food premises (20)</strong> compared to cluster 1 (17) and 2 (12). </p>\n",
    "\n",
    "<p> Take a closer look at cluster 0, the varieties are quite good for living, for example, there are clothing stores, department stores, grocery, supermarket. These are seldom seen in cluster 1 and 2. </p>\n",
    "\n",
    "<p> For cluster 1, it is remarked by an airport and a lots of hotels. </p>\n",
    "\n",
    "<p> At cluster 2, there are indeed tons of restaurants and theatres. Good for entertainment. </p>"
   ]
  },
  {
   "cell_type": "markdown",
   "id": "d4ef2fe2-b1da-4204-9930-8f5b717c23d0",
   "metadata": {},
   "source": [
    "<h2> Conclusion </h2>"
   ]
  },
  {
   "cell_type": "markdown",
   "id": "e8296017-6ad3-49c8-985d-88b7febf9d4b",
   "metadata": {},
   "source": [
    "<p> So for a family with kids, with easy access to schools, London is clustered into 3 regions. <strong>The family may wish to settle at cluster 0</strong> (centroid coordinates 51.5754, -0.2254). It turns out that it is at <strong> Brent Cross </strong>, which there is a <a href='https://en.wikipedia.org/wiki/Brent_Cross_Shopping_Centre'>large shopping centre</a>. No doubt the numbers of stores are found by Foursquare there. </p>"
   ]
  }
 ],
 "metadata": {
  "kernelspec": {
   "display_name": "Python",
   "language": "python",
   "name": "conda-env-python-py"
  },
  "language_info": {
   "codemirror_mode": {
    "name": "ipython",
    "version": 3
   },
   "file_extension": ".py",
   "mimetype": "text/x-python",
   "name": "python",
   "nbconvert_exporter": "python",
   "pygments_lexer": "ipython3",
   "version": "3.6.13"
  }
 },
 "nbformat": 4,
 "nbformat_minor": 5
}
